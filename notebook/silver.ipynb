{
 "cells": [
  {
   "cell_type": "code",
   "execution_count": 0,
   "metadata": {
    "application/vnd.databricks.v1+cell": {
     "cellMetadata": {
      "byteLimit": 2048000,
      "rowLimit": 10000
     },
     "inputWidgets": {},
     "nuid": "97a30631-47fd-408e-902b-b337af486695",
     "showTitle": false,
     "tableResultSettingsMap": {},
     "title": ""
    }
   },
   "outputs": [],
   "source": [
    "from pyspark.sql.functions import *\n",
    "from pyspark.sql.types import *"
   ]
  },
  {
   "cell_type": "code",
   "execution_count": 0,
   "metadata": {
    "application/vnd.databricks.v1+cell": {
     "cellMetadata": {
      "byteLimit": 2048000,
      "implicitDf": true,
      "rowLimit": 10000
     },
     "inputWidgets": {},
     "nuid": "ebd80377-acb5-4440-98ce-fba9470eccd3",
     "showTitle": false,
     "tableResultSettingsMap": {},
     "title": ""
    }
   },
   "outputs": [],
   "source": [
    "spark.sql(\"select * from workspace.bronze.bronzetable\").createOrReplaceTempView(\"silver_source\")"
   ]
  },
  {
   "cell_type": "code",
   "execution_count": 0,
   "metadata": {
    "application/vnd.databricks.v1+cell": {
     "cellMetadata": {
      "byteLimit": 2048000,
      "implicitDf": true,
      "rowLimit": 10000
     },
     "inputWidgets": {},
     "nuid": "53ca6469-1345-4825-8eca-3b625bb535db",
     "showTitle": false,
     "tableResultSettingsMap": {},
     "title": ""
    }
   },
   "outputs": [
    {
     "output_type": "display_data",
     "data": {
      "text/html": [
       "<style scoped>\n",
       "  .table-result-container {\n",
       "    max-height: 300px;\n",
       "    overflow: auto;\n",
       "  }\n",
       "  table, th, td {\n",
       "    border: 1px solid black;\n",
       "    border-collapse: collapse;\n",
       "  }\n",
       "  th, td {\n",
       "    padding: 5px;\n",
       "  }\n",
       "  th {\n",
       "    text-align: left;\n",
       "  }\n",
       "</style><div class='table-result-container'><table class='table-result'><thead style='background-color: white'><tr><th>OrderID</th><th>OrderDate</th><th>CustomerID</th><th>CustomerName</th><th>ProductID</th><th>ProductName</th><th>Quantity</th><th>SalesAmount</th><th>lastupdated</th></tr></thead><tbody><tr><td>1001</td><td>2025-08-01</td><td>C001</td><td>John Doe</td><td>P001</td><td>Laptop</td><td>1</td><td>1200.0</td><td>2025-08-10T06:52:44.088Z</td></tr><tr><td>1002</td><td>2025-08-01</td><td>C002</td><td>Jane Smith</td><td>P002</td><td>Mouse</td><td>2</td><td>50.0</td><td>2025-08-10T06:52:44.088Z</td></tr><tr><td>1003</td><td>2025-08-02</td><td>C001</td><td>John Doe</td><td>P003</td><td>Keyboard</td><td>1</td><td>80.0</td><td>2025-08-10T06:52:44.088Z</td></tr><tr><td>1004</td><td>2025-08-03</td><td>C003</td><td>Mark Lee</td><td>P001</td><td>Laptop</td><td>1</td><td>1200.0</td><td>2025-08-10T06:52:44.088Z</td></tr><tr><td>1006</td><td>2025-08-06</td><td>C006</td><td>Emma White</td><td>P006</td><td>Webcam</td><td>1</td><td>90.0</td><td>2025-08-10T07:16:19.258Z</td></tr><tr><td>1007</td><td>2025-08-07</td><td>C002</td><td>Jane Smith</td><td>P002</td><td>Mouse</td><td>3</td><td>75.0</td><td>2025-08-10T07:16:19.258Z</td></tr><tr><td>1005</td><td>2025-08-04</td><td>C004</td><td>Suresh kumar</td><td>P004</td><td>Monitor</td><td>2</td><td>300.0</td><td>2025-08-10T07:16:19.258Z</td></tr></tbody></table></div>"
      ]
     },
     "metadata": {
      "application/vnd.databricks.v1+output": {
       "addedWidgets": {},
       "aggData": [],
       "aggError": "",
       "aggOverflow": false,
       "aggSchema": [],
       "aggSeriesLimitReached": false,
       "aggType": "",
       "arguments": {},
       "columnCustomDisplayInfos": {},
       "data": [
        [
         1001,
         "2025-08-01",
         "C001",
         "John Doe",
         "P001",
         "Laptop",
         1,
         1200.0,
         "2025-08-10T06:52:44.088Z"
        ],
        [
         1002,
         "2025-08-01",
         "C002",
         "Jane Smith",
         "P002",
         "Mouse",
         2,
         50.0,
         "2025-08-10T06:52:44.088Z"
        ],
        [
         1003,
         "2025-08-02",
         "C001",
         "John Doe",
         "P003",
         "Keyboard",
         1,
         80.0,
         "2025-08-10T06:52:44.088Z"
        ],
        [
         1004,
         "2025-08-03",
         "C003",
         "Mark Lee",
         "P001",
         "Laptop",
         1,
         1200.0,
         "2025-08-10T06:52:44.088Z"
        ],
        [
         1006,
         "2025-08-06",
         "C006",
         "Emma White",
         "P006",
         "Webcam",
         1,
         90.0,
         "2025-08-10T07:16:19.258Z"
        ],
        [
         1007,
         "2025-08-07",
         "C002",
         "Jane Smith",
         "P002",
         "Mouse",
         3,
         75.0,
         "2025-08-10T07:16:19.258Z"
        ],
        [
         1005,
         "2025-08-04",
         "C004",
         "Suresh kumar",
         "P004",
         "Monitor",
         2,
         300.0,
         "2025-08-10T07:16:19.258Z"
        ]
       ],
       "datasetInfos": [
        {
         "name": "_sqldf",
         "schema": {
          "fields": [
           {
            "metadata": {},
            "name": "OrderID",
            "nullable": true,
            "type": "integer"
           },
           {
            "metadata": {},
            "name": "OrderDate",
            "nullable": true,
            "type": "date"
           },
           {
            "metadata": {},
            "name": "CustomerID",
            "nullable": true,
            "type": "string"
           },
           {
            "metadata": {},
            "name": "CustomerName",
            "nullable": true,
            "type": "string"
           },
           {
            "metadata": {},
            "name": "ProductID",
            "nullable": true,
            "type": "string"
           },
           {
            "metadata": {},
            "name": "ProductName",
            "nullable": true,
            "type": "string"
           },
           {
            "metadata": {},
            "name": "Quantity",
            "nullable": true,
            "type": "integer"
           },
           {
            "metadata": {},
            "name": "SalesAmount",
            "nullable": true,
            "type": "double"
           },
           {
            "metadata": {},
            "name": "lastupdated",
            "nullable": true,
            "type": "timestamp"
           }
          ],
          "type": "struct"
         },
         "tableIdentifier": null,
         "typeStr": "pyspark.sql.connect.dataframe.DataFrame"
        }
       ],
       "dbfsResultPath": null,
       "isJsonSchema": true,
       "metadata": {
        "createTempViewForImplicitDf": true,
        "dataframeName": "_sqldf",
        "executionCount": 7
       },
       "overflow": false,
       "plotOptions": {
        "customPlotOptions": {},
        "displayType": "table",
        "pivotAggregation": null,
        "pivotColumns": null,
        "xColumns": null,
        "yColumns": null
       },
       "removedWidgets": [],
       "schema": [
        {
         "metadata": "{}",
         "name": "OrderID",
         "type": "\"integer\""
        },
        {
         "metadata": "{}",
         "name": "OrderDate",
         "type": "\"date\""
        },
        {
         "metadata": "{}",
         "name": "CustomerID",
         "type": "\"string\""
        },
        {
         "metadata": "{}",
         "name": "CustomerName",
         "type": "\"string\""
        },
        {
         "metadata": "{}",
         "name": "ProductID",
         "type": "\"string\""
        },
        {
         "metadata": "{}",
         "name": "ProductName",
         "type": "\"string\""
        },
        {
         "metadata": "{}",
         "name": "Quantity",
         "type": "\"integer\""
        },
        {
         "metadata": "{}",
         "name": "SalesAmount",
         "type": "\"double\""
        },
        {
         "metadata": "{}",
         "name": "lastupdated",
         "type": "\"timestamp\""
        }
       ],
       "type": "table"
      }
     },
     "output_type": "display_data"
    }
   ],
   "source": [
    "%sql\n",
    "select * from silver_source"
   ]
  },
  {
   "cell_type": "code",
   "execution_count": 0,
   "metadata": {
    "application/vnd.databricks.v1+cell": {
     "cellMetadata": {
      "byteLimit": 2048000,
      "implicitDf": true,
      "rowLimit": 10000
     },
     "inputWidgets": {},
     "nuid": "e18480c4-6a37-4ce0-a92c-0187fcdb9216",
     "showTitle": false,
     "tableResultSettingsMap": {},
     "title": ""
    }
   },
   "outputs": [
    {
     "output_type": "display_data",
     "data": {
      "text/html": [
       "<style scoped>\n",
       "  .table-result-container {\n",
       "    max-height: 300px;\n",
       "    overflow: auto;\n",
       "  }\n",
       "  table, th, td {\n",
       "    border: 1px solid black;\n",
       "    border-collapse: collapse;\n",
       "  }\n",
       "  th, td {\n",
       "    padding: 5px;\n",
       "  }\n",
       "  th {\n",
       "    text-align: left;\n",
       "  }\n",
       "</style><div class='table-result-container'><table class='table-result'><thead style='background-color: white'><tr><th>num_affected_rows</th><th>num_inserted_rows</th></tr></thead><tbody></tbody></table></div>"
      ]
     },
     "metadata": {
      "application/vnd.databricks.v1+output": {
       "addedWidgets": {},
       "aggData": [],
       "aggError": "",
       "aggOverflow": false,
       "aggSchema": [],
       "aggSeriesLimitReached": false,
       "aggType": "",
       "arguments": {},
       "columnCustomDisplayInfos": {},
       "data": [],
       "datasetInfos": [
        {
         "name": "_sqldf",
         "schema": {
          "fields": [
           {
            "metadata": {},
            "name": "num_affected_rows",
            "nullable": true,
            "type": "long"
           },
           {
            "metadata": {},
            "name": "num_inserted_rows",
            "nullable": true,
            "type": "long"
           }
          ],
          "type": "struct"
         },
         "tableIdentifier": null,
         "typeStr": "pyspark.sql.connect.dataframe.DataFrame"
        }
       ],
       "dbfsResultPath": null,
       "isJsonSchema": true,
       "metadata": {
        "createTempViewForImplicitDf": true,
        "dataframeName": "_sqldf",
        "executionCount": 9
       },
       "overflow": false,
       "plotOptions": {
        "customPlotOptions": {},
        "displayType": "table",
        "pivotAggregation": null,
        "pivotColumns": null,
        "xColumns": null,
        "yColumns": null
       },
       "removedWidgets": [],
       "schema": [
        {
         "metadata": "{}",
         "name": "num_affected_rows",
         "type": "\"long\""
        },
        {
         "metadata": "{}",
         "name": "num_inserted_rows",
         "type": "\"long\""
        }
       ],
       "type": "table"
      }
     },
     "output_type": "display_data"
    }
   ],
   "source": [
    "%sql\n",
    "create table if not exists workspace.silver.silvertable\n",
    "as\n",
    "select * from silver_source"
   ]
  },
  {
   "cell_type": "markdown",
   "metadata": {
    "application/vnd.databricks.v1+cell": {
     "cellMetadata": {},
     "inputWidgets": {},
     "nuid": "06501ff3-cee8-45a8-8a99-2a8941f058ae",
     "showTitle": false,
     "tableResultSettingsMap": {},
     "title": ""
    }
   },
   "source": [
    "## MERGE VIEW AND SILVER EMPTY TABLE\n"
   ]
  },
  {
   "cell_type": "code",
   "execution_count": 0,
   "metadata": {
    "application/vnd.databricks.v1+cell": {
     "cellMetadata": {
      "byteLimit": 2048000,
      "implicitDf": true,
      "rowLimit": 10000
     },
     "inputWidgets": {},
     "nuid": "5d8baa7a-9ffc-441d-a78f-b2a18f12d9a6",
     "showTitle": false,
     "tableResultSettingsMap": {},
     "title": ""
    }
   },
   "outputs": [
    {
     "output_type": "display_data",
     "data": {
      "text/html": [
       "<style scoped>\n",
       "  .table-result-container {\n",
       "    max-height: 300px;\n",
       "    overflow: auto;\n",
       "  }\n",
       "  table, th, td {\n",
       "    border: 1px solid black;\n",
       "    border-collapse: collapse;\n",
       "  }\n",
       "  th, td {\n",
       "    padding: 5px;\n",
       "  }\n",
       "  th {\n",
       "    text-align: left;\n",
       "  }\n",
       "</style><div class='table-result-container'><table class='table-result'><thead style='background-color: white'><tr><th>num_affected_rows</th><th>num_updated_rows</th><th>num_deleted_rows</th><th>num_inserted_rows</th></tr></thead><tbody><tr><td>7</td><td>7</td><td>0</td><td>0</td></tr></tbody></table></div>"
      ]
     },
     "metadata": {
      "application/vnd.databricks.v1+output": {
       "addedWidgets": {},
       "aggData": [],
       "aggError": "",
       "aggOverflow": false,
       "aggSchema": [],
       "aggSeriesLimitReached": false,
       "aggType": "",
       "arguments": {},
       "columnCustomDisplayInfos": {},
       "data": [
        [
         7,
         7,
         0,
         0
        ]
       ],
       "datasetInfos": [
        {
         "name": "_sqldf",
         "schema": {
          "fields": [
           {
            "metadata": {},
            "name": "num_affected_rows",
            "nullable": true,
            "type": "long"
           },
           {
            "metadata": {},
            "name": "num_updated_rows",
            "nullable": true,
            "type": "long"
           },
           {
            "metadata": {},
            "name": "num_deleted_rows",
            "nullable": true,
            "type": "long"
           },
           {
            "metadata": {},
            "name": "num_inserted_rows",
            "nullable": true,
            "type": "long"
           }
          ],
          "type": "struct"
         },
         "tableIdentifier": null,
         "typeStr": "pyspark.sql.connect.dataframe.DataFrame"
        }
       ],
       "dbfsResultPath": null,
       "isJsonSchema": true,
       "metadata": {
        "createTempViewForImplicitDf": true,
        "dataframeName": "_sqldf",
        "executionCount": 12
       },
       "overflow": false,
       "plotOptions": {
        "customPlotOptions": {},
        "displayType": "table",
        "pivotAggregation": null,
        "pivotColumns": null,
        "xColumns": null,
        "yColumns": null
       },
       "removedWidgets": [],
       "schema": [
        {
         "metadata": "{}",
         "name": "num_affected_rows",
         "type": "\"long\""
        },
        {
         "metadata": "{}",
         "name": "num_updated_rows",
         "type": "\"long\""
        },
        {
         "metadata": "{}",
         "name": "num_deleted_rows",
         "type": "\"long\""
        },
        {
         "metadata": "{}",
         "name": "num_inserted_rows",
         "type": "\"long\""
        }
       ],
       "type": "table"
      }
     },
     "output_type": "display_data"
    }
   ],
   "source": [
    "%sql\n",
    "merge into workspace.silver.silvertable\n",
    "using silver_source\n",
    "on workspace.silver.silvertable.OrderID = silver_source.OrderID\n",
    "when matched then update set *\n",
    "when not matched then insert *"
   ]
  },
  {
   "cell_type": "code",
   "execution_count": 0,
   "metadata": {
    "application/vnd.databricks.v1+cell": {
     "cellMetadata": {
      "byteLimit": 2048000,
      "implicitDf": true,
      "rowLimit": 10000
     },
     "inputWidgets": {},
     "nuid": "3bb9192c-b0ac-4d36-9d15-2986a899156a",
     "showTitle": false,
     "tableResultSettingsMap": {},
     "title": ""
    }
   },
   "outputs": [
    {
     "output_type": "display_data",
     "data": {
      "text/html": [
       "<style scoped>\n",
       "  .table-result-container {\n",
       "    max-height: 300px;\n",
       "    overflow: auto;\n",
       "  }\n",
       "  table, th, td {\n",
       "    border: 1px solid black;\n",
       "    border-collapse: collapse;\n",
       "  }\n",
       "  th, td {\n",
       "    padding: 5px;\n",
       "  }\n",
       "  th {\n",
       "    text-align: left;\n",
       "  }\n",
       "</style><div class='table-result-container'><table class='table-result'><thead style='background-color: white'><tr><th>OrderID</th><th>OrderDate</th><th>CustomerID</th><th>CustomerName</th><th>ProductID</th><th>ProductName</th><th>Quantity</th><th>SalesAmount</th><th>lastupdated</th></tr></thead><tbody><tr><td>1001</td><td>2025-08-01</td><td>C001</td><td>John Doe</td><td>P001</td><td>Laptop</td><td>1</td><td>1200.0</td><td>2025-08-10T06:52:44.088Z</td></tr><tr><td>1002</td><td>2025-08-01</td><td>C002</td><td>Jane Smith</td><td>P002</td><td>Mouse</td><td>2</td><td>50.0</td><td>2025-08-10T06:52:44.088Z</td></tr><tr><td>1003</td><td>2025-08-02</td><td>C001</td><td>John Doe</td><td>P003</td><td>Keyboard</td><td>1</td><td>80.0</td><td>2025-08-10T06:52:44.088Z</td></tr><tr><td>1004</td><td>2025-08-03</td><td>C003</td><td>Mark Lee</td><td>P001</td><td>Laptop</td><td>1</td><td>1200.0</td><td>2025-08-10T06:52:44.088Z</td></tr><tr><td>1006</td><td>2025-08-06</td><td>C006</td><td>Emma White</td><td>P006</td><td>Webcam</td><td>1</td><td>90.0</td><td>2025-08-10T07:16:19.258Z</td></tr><tr><td>1007</td><td>2025-08-07</td><td>C002</td><td>Jane Smith</td><td>P002</td><td>Mouse</td><td>3</td><td>75.0</td><td>2025-08-10T07:16:19.258Z</td></tr><tr><td>1005</td><td>2025-08-04</td><td>C004</td><td>Suresh kumar</td><td>P004</td><td>Monitor</td><td>2</td><td>300.0</td><td>2025-08-10T07:16:19.258Z</td></tr></tbody></table></div>"
      ]
     },
     "metadata": {
      "application/vnd.databricks.v1+output": {
       "addedWidgets": {},
       "aggData": [],
       "aggError": "",
       "aggOverflow": false,
       "aggSchema": [],
       "aggSeriesLimitReached": false,
       "aggType": "",
       "arguments": {},
       "columnCustomDisplayInfos": {},
       "data": [
        [
         1001,
         "2025-08-01",
         "C001",
         "John Doe",
         "P001",
         "Laptop",
         1,
         1200.0,
         "2025-08-10T06:52:44.088Z"
        ],
        [
         1002,
         "2025-08-01",
         "C002",
         "Jane Smith",
         "P002",
         "Mouse",
         2,
         50.0,
         "2025-08-10T06:52:44.088Z"
        ],
        [
         1003,
         "2025-08-02",
         "C001",
         "John Doe",
         "P003",
         "Keyboard",
         1,
         80.0,
         "2025-08-10T06:52:44.088Z"
        ],
        [
         1004,
         "2025-08-03",
         "C003",
         "Mark Lee",
         "P001",
         "Laptop",
         1,
         1200.0,
         "2025-08-10T06:52:44.088Z"
        ],
        [
         1006,
         "2025-08-06",
         "C006",
         "Emma White",
         "P006",
         "Webcam",
         1,
         90.0,
         "2025-08-10T07:16:19.258Z"
        ],
        [
         1007,
         "2025-08-07",
         "C002",
         "Jane Smith",
         "P002",
         "Mouse",
         3,
         75.0,
         "2025-08-10T07:16:19.258Z"
        ],
        [
         1005,
         "2025-08-04",
         "C004",
         "Suresh kumar",
         "P004",
         "Monitor",
         2,
         300.0,
         "2025-08-10T07:16:19.258Z"
        ]
       ],
       "datasetInfos": [
        {
         "name": "_sqldf",
         "schema": {
          "fields": [
           {
            "metadata": {},
            "name": "OrderID",
            "nullable": true,
            "type": "integer"
           },
           {
            "metadata": {},
            "name": "OrderDate",
            "nullable": true,
            "type": "date"
           },
           {
            "metadata": {},
            "name": "CustomerID",
            "nullable": true,
            "type": "string"
           },
           {
            "metadata": {},
            "name": "CustomerName",
            "nullable": true,
            "type": "string"
           },
           {
            "metadata": {},
            "name": "ProductID",
            "nullable": true,
            "type": "string"
           },
           {
            "metadata": {},
            "name": "ProductName",
            "nullable": true,
            "type": "string"
           },
           {
            "metadata": {},
            "name": "Quantity",
            "nullable": true,
            "type": "integer"
           },
           {
            "metadata": {},
            "name": "SalesAmount",
            "nullable": true,
            "type": "double"
           },
           {
            "metadata": {},
            "name": "lastupdated",
            "nullable": true,
            "type": "timestamp"
           }
          ],
          "type": "struct"
         },
         "tableIdentifier": null,
         "typeStr": "pyspark.sql.connect.dataframe.DataFrame"
        }
       ],
       "dbfsResultPath": null,
       "isJsonSchema": true,
       "metadata": {
        "createTempViewForImplicitDf": true,
        "dataframeName": "_sqldf",
        "executionCount": 14
       },
       "overflow": false,
       "plotOptions": {
        "customPlotOptions": {},
        "displayType": "table",
        "pivotAggregation": null,
        "pivotColumns": null,
        "xColumns": null,
        "yColumns": null
       },
       "removedWidgets": [],
       "schema": [
        {
         "metadata": "{}",
         "name": "OrderID",
         "type": "\"integer\""
        },
        {
         "metadata": "{}",
         "name": "OrderDate",
         "type": "\"date\""
        },
        {
         "metadata": "{}",
         "name": "CustomerID",
         "type": "\"string\""
        },
        {
         "metadata": "{}",
         "name": "CustomerName",
         "type": "\"string\""
        },
        {
         "metadata": "{}",
         "name": "ProductID",
         "type": "\"string\""
        },
        {
         "metadata": "{}",
         "name": "ProductName",
         "type": "\"string\""
        },
        {
         "metadata": "{}",
         "name": "Quantity",
         "type": "\"integer\""
        },
        {
         "metadata": "{}",
         "name": "SalesAmount",
         "type": "\"double\""
        },
        {
         "metadata": "{}",
         "name": "lastupdated",
         "type": "\"timestamp\""
        }
       ],
       "type": "table"
      }
     },
     "output_type": "display_data"
    }
   ],
   "source": [
    "%sql\n",
    "select * from workspace.silver.silvertable"
   ]
  },
  {
   "cell_type": "code",
   "execution_count": 0,
   "metadata": {
    "application/vnd.databricks.v1+cell": {
     "cellMetadata": {},
     "inputWidgets": {},
     "nuid": "f9f41407-9fcd-4e51-8637-32fa0e57b6d6",
     "showTitle": false,
     "tableResultSettingsMap": {},
     "title": ""
    }
   },
   "outputs": [],
   "source": []
  }
 ],
 "metadata": {
  "application/vnd.databricks.v1+notebook": {
   "computePreferences": {
    "hardware": {
     "accelerator": null,
     "gpuPoolId": null,
     "memory": null
    }
   },
   "dashboards": [],
   "environmentMetadata": {
    "base_environment": "",
    "environment_version": "2"
   },
   "inputWidgetPreferences": null,
   "language": "python",
   "notebookMetadata": {
    "mostRecentlyExecutedCommandWithImplicitDF": {
     "commandId": 5596519015545078,
     "dataframes": [
      "_sqldf"
     ]
    },
    "pythonIndentUnit": 4
   },
   "notebookName": "silver",
   "widgets": {}
  },
  "language_info": {
   "name": "python"
  }
 },
 "nbformat": 4,
 "nbformat_minor": 0
}