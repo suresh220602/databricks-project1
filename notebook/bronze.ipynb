{
 "cells": [
  {
   "cell_type": "code",
   "execution_count": 0,
   "metadata": {
    "application/vnd.databricks.v1+cell": {
     "cellMetadata": {
      "byteLimit": 2048000,
      "rowLimit": 10000
     },
     "inputWidgets": {},
     "nuid": "128e9c2a-78ed-41cb-a47e-40dfd5bb2e00",
     "showTitle": false,
     "tableResultSettingsMap": {},
     "title": ""
    }
   },
   "outputs": [],
   "source": [
    "from pyspark.sql.functions import *\n",
    "from pyspark.sql.types import *\n",
    "from datetime import datetime\n"
   ]
  },
  {
   "cell_type": "markdown",
   "metadata": {
    "application/vnd.databricks.v1+cell": {
     "cellMetadata": {},
     "inputWidgets": {},
     "nuid": "cbc55b04-393c-4183-be6d-977855a85199",
     "showTitle": false,
     "tableResultSettingsMap": {},
     "title": ""
    }
   },
   "source": [
    "## VIEW RAW DATA"
   ]
  },
  {
   "cell_type": "code",
   "execution_count": 0,
   "metadata": {
    "application/vnd.databricks.v1+cell": {
     "cellMetadata": {
      "byteLimit": 2048000,
      "implicitDf": true,
      "rowLimit": 10000
     },
     "inputWidgets": {},
     "nuid": "ded2883a-b6b0-4a57-9da0-42ecd279f737",
     "showTitle": false,
     "tableResultSettingsMap": {},
     "title": ""
    }
   },
   "outputs": [
    {
     "output_type": "display_data",
     "data": {
      "text/html": [
       "<style scoped>\n",
       "  .table-result-container {\n",
       "    max-height: 300px;\n",
       "    overflow: auto;\n",
       "  }\n",
       "  table, th, td {\n",
       "    border: 1px solid black;\n",
       "    border-collapse: collapse;\n",
       "  }\n",
       "  th, td {\n",
       "    padding: 5px;\n",
       "  }\n",
       "  th {\n",
       "    text-align: left;\n",
       "  }\n",
       "</style><div class='table-result-container'><table class='table-result'><thead style='background-color: white'><tr><th>OrderID</th><th>OrderDate</th><th>CustomerID</th><th>CustomerName</th><th>ProductID</th><th>ProductName</th><th>Quantity</th><th>SalesAmount</th><th>lastupdated</th></tr></thead><tbody><tr><td>1001</td><td>2025-08-01</td><td>C001</td><td>John Doe</td><td>P001</td><td>Laptop</td><td>1</td><td>1200.0</td><td>2025-08-10T06:52:44.088Z</td></tr><tr><td>1002</td><td>2025-08-01</td><td>C002</td><td>Jane Smith</td><td>P002</td><td>Mouse</td><td>2</td><td>50.0</td><td>2025-08-10T06:52:44.088Z</td></tr><tr><td>1003</td><td>2025-08-02</td><td>C001</td><td>John Doe</td><td>P003</td><td>Keyboard</td><td>1</td><td>80.0</td><td>2025-08-10T06:52:44.088Z</td></tr><tr><td>1004</td><td>2025-08-03</td><td>C003</td><td>Mark Lee</td><td>P001</td><td>Laptop</td><td>1</td><td>1200.0</td><td>2025-08-10T06:52:44.088Z</td></tr><tr><td>1005</td><td>2025-08-04</td><td>C004</td><td>Susan Ray</td><td>P004</td><td>Monitor</td><td>2</td><td>300.0</td><td>2025-08-10T06:52:44.088Z</td></tr></tbody></table></div>"
      ]
     },
     "metadata": {
      "application/vnd.databricks.v1+output": {
       "addedWidgets": {},
       "aggData": [],
       "aggError": "",
       "aggOverflow": false,
       "aggSchema": [],
       "aggSeriesLimitReached": false,
       "aggType": "",
       "arguments": {},
       "columnCustomDisplayInfos": {},
       "data": [
        [
         1001,
         "2025-08-01",
         "C001",
         "John Doe",
         "P001",
         "Laptop",
         1,
         1200.0,
         "2025-08-10T06:52:44.088Z"
        ],
        [
         1002,
         "2025-08-01",
         "C002",
         "Jane Smith",
         "P002",
         "Mouse",
         2,
         50.0,
         "2025-08-10T06:52:44.088Z"
        ],
        [
         1003,
         "2025-08-02",
         "C001",
         "John Doe",
         "P003",
         "Keyboard",
         1,
         80.0,
         "2025-08-10T06:52:44.088Z"
        ],
        [
         1004,
         "2025-08-03",
         "C003",
         "Mark Lee",
         "P001",
         "Laptop",
         1,
         1200.0,
         "2025-08-10T06:52:44.088Z"
        ],
        [
         1005,
         "2025-08-04",
         "C004",
         "Susan Ray",
         "P004",
         "Monitor",
         2,
         300.0,
         "2025-08-10T06:52:44.088Z"
        ]
       ],
       "datasetInfos": [
        {
         "name": "_sqldf",
         "schema": {
          "fields": [
           {
            "metadata": {},
            "name": "OrderID",
            "nullable": true,
            "type": "integer"
           },
           {
            "metadata": {},
            "name": "OrderDate",
            "nullable": true,
            "type": "date"
           },
           {
            "metadata": {},
            "name": "CustomerID",
            "nullable": true,
            "type": "string"
           },
           {
            "metadata": {},
            "name": "CustomerName",
            "nullable": true,
            "type": "string"
           },
           {
            "metadata": {},
            "name": "ProductID",
            "nullable": true,
            "type": "string"
           },
           {
            "metadata": {},
            "name": "ProductName",
            "nullable": true,
            "type": "string"
           },
           {
            "metadata": {},
            "name": "Quantity",
            "nullable": true,
            "type": "integer"
           },
           {
            "metadata": {},
            "name": "SalesAmount",
            "nullable": true,
            "type": "double"
           },
           {
            "metadata": {},
            "name": "lastupdated",
            "nullable": true,
            "type": "timestamp"
           }
          ],
          "type": "struct"
         },
         "tableIdentifier": null,
         "typeStr": "pyspark.sql.connect.dataframe.DataFrame"
        }
       ],
       "dbfsResultPath": null,
       "isJsonSchema": true,
       "metadata": {
        "createTempViewForImplicitDf": true,
        "dataframeName": "_sqldf",
        "executionCount": 57
       },
       "overflow": false,
       "plotOptions": {
        "customPlotOptions": {},
        "displayType": "table",
        "pivotAggregation": null,
        "pivotColumns": null,
        "xColumns": null,
        "yColumns": null
       },
       "removedWidgets": [],
       "schema": [
        {
         "metadata": "{}",
         "name": "OrderID",
         "type": "\"integer\""
        },
        {
         "metadata": "{}",
         "name": "OrderDate",
         "type": "\"date\""
        },
        {
         "metadata": "{}",
         "name": "CustomerID",
         "type": "\"string\""
        },
        {
         "metadata": "{}",
         "name": "CustomerName",
         "type": "\"string\""
        },
        {
         "metadata": "{}",
         "name": "ProductID",
         "type": "\"string\""
        },
        {
         "metadata": "{}",
         "name": "ProductName",
         "type": "\"string\""
        },
        {
         "metadata": "{}",
         "name": "Quantity",
         "type": "\"integer\""
        },
        {
         "metadata": "{}",
         "name": "SalesAmount",
         "type": "\"double\""
        },
        {
         "metadata": "{}",
         "name": "lastupdated",
         "type": "\"timestamp\""
        }
       ],
       "type": "table"
      }
     },
     "output_type": "display_data"
    }
   ],
   "source": [
    "%sql\n",
    "select * from workspace.raw.rawdata"
   ]
  },
  {
   "cell_type": "markdown",
   "metadata": {
    "application/vnd.databricks.v1+cell": {
     "cellMetadata": {},
     "inputWidgets": {},
     "nuid": "044f9b91-5630-40c2-880b-9e936c59107b",
     "showTitle": false,
     "tableResultSettingsMap": {},
     "title": ""
    }
   },
   "source": [
    "## GET LAST UPDATED TIME"
   ]
  },
  {
   "cell_type": "code",
   "execution_count": 0,
   "metadata": {
    "application/vnd.databricks.v1+cell": {
     "cellMetadata": {
      "byteLimit": 2048000,
      "rowLimit": 10000
     },
     "inputWidgets": {},
     "nuid": "18d20d60-0165-405a-bf21-94dbbd408741",
     "showTitle": false,
     "tableResultSettingsMap": {},
     "title": ""
    }
   },
   "outputs": [
    {
     "output_type": "execute_result",
     "data": {
      "text/plain": [
       "datetime.datetime(2025, 8, 10, 6, 52, 44, 88555)"
      ]
     },
     "execution_count": 107,
     "metadata": {},
     "output_type": "execute_result"
    }
   ],
   "source": [
    "if spark.catalog.tableExists(\"workspace.bronze.bronzetable\"):\n",
    "    last_load_time = spark.sql(\"\"\"SELECT MAX(lastupdated) FROM workspace.bronze.bronzetable\"\"\").collect()[0][0]\n",
    "    \n",
    "    if last_load_time is None:\n",
    "        last_load_time = datetime(2024, 1, 1, 0, 0, 0)\n",
    "else:\n",
    "    last_load_time = datetime(2024, 1, 1, 0, 0, 0)\n",
    "\n",
    "last_load_time"
   ]
  },
  {
   "cell_type": "markdown",
   "metadata": {
    "application/vnd.databricks.v1+cell": {
     "cellMetadata": {},
     "inputWidgets": {},
     "nuid": "439530b7-8ad0-465d-86b4-297c403f635d",
     "showTitle": false,
     "tableResultSettingsMap": {},
     "title": ""
    }
   },
   "source": [
    "## CREATE VIEW"
   ]
  },
  {
   "cell_type": "code",
   "execution_count": 0,
   "metadata": {
    "application/vnd.databricks.v1+cell": {
     "cellMetadata": {
      "byteLimit": 2048000,
      "rowLimit": 10000
     },
     "inputWidgets": {},
     "nuid": "c704325b-e96a-4a44-bac7-765c9c4edaf7",
     "showTitle": false,
     "tableResultSettingsMap": {},
     "title": ""
    }
   },
   "outputs": [],
   "source": [
    "spark.sql(f\"\"\"select * from workspace.raw.rawdata where lastupdated > '{last_load_time}'\"\"\").createOrReplaceTempView(\"bronze_source\")"
   ]
  },
  {
   "cell_type": "code",
   "execution_count": 0,
   "metadata": {
    "application/vnd.databricks.v1+cell": {
     "cellMetadata": {
      "byteLimit": 2048000,
      "implicitDf": true,
      "rowLimit": 10000
     },
     "inputWidgets": {},
     "nuid": "9e87677e-c840-448b-83c4-8f43dc25d65b",
     "showTitle": false,
     "tableResultSettingsMap": {
      "0": {
       "dataGridStateBlob": "{\"version\":1,\"tableState\":{\"columnPinning\":{\"left\":[\"#row_number#\"],\"right\":[]},\"columnSizing\":{},\"columnVisibility\":{}},\"settings\":{\"columns\":{}},\"syncTimestamp\":1754809007057}",
       "filterBlob": null,
       "queryPlanFiltersBlob": null,
       "tableResultIndex": 0
      }
     },
     "title": ""
    }
   },
   "outputs": [
    {
     "output_type": "display_data",
     "data": {
      "text/html": [
       "<style scoped>\n",
       "  .table-result-container {\n",
       "    max-height: 300px;\n",
       "    overflow: auto;\n",
       "  }\n",
       "  table, th, td {\n",
       "    border: 1px solid black;\n",
       "    border-collapse: collapse;\n",
       "  }\n",
       "  th, td {\n",
       "    padding: 5px;\n",
       "  }\n",
       "  th {\n",
       "    text-align: left;\n",
       "  }\n",
       "</style><div class='table-result-container'><table class='table-result'><thead style='background-color: white'><tr><th>OrderID</th><th>OrderDate</th><th>CustomerID</th><th>CustomerName</th><th>ProductID</th><th>ProductName</th><th>Quantity</th><th>SalesAmount</th><th>lastupdated</th></tr></thead><tbody><tr><td>1006</td><td>2025-08-06</td><td>C006</td><td>Emma White</td><td>P006</td><td>Webcam</td><td>1</td><td>90.0</td><td>2025-08-10T07:16:19.258Z</td></tr><tr><td>1007</td><td>2025-08-07</td><td>C002</td><td>Jane Smith</td><td>P002</td><td>Mouse</td><td>3</td><td>75.0</td><td>2025-08-10T07:16:19.258Z</td></tr><tr><td>1005</td><td>2025-08-04</td><td>C004</td><td>Suresh kumar</td><td>P004</td><td>Monitor</td><td>2</td><td>300.0</td><td>2025-08-10T07:16:19.258Z</td></tr></tbody></table></div>"
      ]
     },
     "metadata": {
      "application/vnd.databricks.v1+output": {
       "addedWidgets": {},
       "aggData": [],
       "aggError": "",
       "aggOverflow": false,
       "aggSchema": [],
       "aggSeriesLimitReached": false,
       "aggType": "",
       "arguments": {},
       "columnCustomDisplayInfos": {},
       "data": [
        [
         1006,
         "2025-08-06",
         "C006",
         "Emma White",
         "P006",
         "Webcam",
         1,
         90.0,
         "2025-08-10T07:16:19.258Z"
        ],
        [
         1007,
         "2025-08-07",
         "C002",
         "Jane Smith",
         "P002",
         "Mouse",
         3,
         75.0,
         "2025-08-10T07:16:19.258Z"
        ],
        [
         1005,
         "2025-08-04",
         "C004",
         "Suresh kumar",
         "P004",
         "Monitor",
         2,
         300.0,
         "2025-08-10T07:16:19.258Z"
        ]
       ],
       "datasetInfos": [
        {
         "name": "_sqldf",
         "schema": {
          "fields": [
           {
            "metadata": {},
            "name": "OrderID",
            "nullable": true,
            "type": "integer"
           },
           {
            "metadata": {},
            "name": "OrderDate",
            "nullable": true,
            "type": "date"
           },
           {
            "metadata": {},
            "name": "CustomerID",
            "nullable": true,
            "type": "string"
           },
           {
            "metadata": {},
            "name": "CustomerName",
            "nullable": true,
            "type": "string"
           },
           {
            "metadata": {},
            "name": "ProductID",
            "nullable": true,
            "type": "string"
           },
           {
            "metadata": {},
            "name": "ProductName",
            "nullable": true,
            "type": "string"
           },
           {
            "metadata": {},
            "name": "Quantity",
            "nullable": true,
            "type": "integer"
           },
           {
            "metadata": {},
            "name": "SalesAmount",
            "nullable": true,
            "type": "double"
           },
           {
            "metadata": {},
            "name": "lastupdated",
            "nullable": true,
            "type": "timestamp"
           }
          ],
          "type": "struct"
         },
         "tableIdentifier": null,
         "typeStr": "pyspark.sql.connect.dataframe.DataFrame"
        }
       ],
       "dbfsResultPath": null,
       "isJsonSchema": true,
       "metadata": {
        "createTempViewForImplicitDf": true,
        "dataframeName": "_sqldf",
        "executionCount": 109
       },
       "overflow": false,
       "plotOptions": {
        "customPlotOptions": {},
        "displayType": "table",
        "pivotAggregation": null,
        "pivotColumns": null,
        "xColumns": null,
        "yColumns": null
       },
       "removedWidgets": [],
       "schema": [
        {
         "metadata": "{}",
         "name": "OrderID",
         "type": "\"integer\""
        },
        {
         "metadata": "{}",
         "name": "OrderDate",
         "type": "\"date\""
        },
        {
         "metadata": "{}",
         "name": "CustomerID",
         "type": "\"string\""
        },
        {
         "metadata": "{}",
         "name": "CustomerName",
         "type": "\"string\""
        },
        {
         "metadata": "{}",
         "name": "ProductID",
         "type": "\"string\""
        },
        {
         "metadata": "{}",
         "name": "ProductName",
         "type": "\"string\""
        },
        {
         "metadata": "{}",
         "name": "Quantity",
         "type": "\"integer\""
        },
        {
         "metadata": "{}",
         "name": "SalesAmount",
         "type": "\"double\""
        },
        {
         "metadata": "{}",
         "name": "lastupdated",
         "type": "\"timestamp\""
        }
       ],
       "type": "table"
      }
     },
     "output_type": "display_data"
    }
   ],
   "source": [
    "%sql\n",
    "select * from bronze_source"
   ]
  },
  {
   "cell_type": "code",
   "execution_count": 0,
   "metadata": {
    "application/vnd.databricks.v1+cell": {
     "cellMetadata": {
      "byteLimit": 2048000,
      "implicitDf": true,
      "rowLimit": 10000
     },
     "inputWidgets": {},
     "nuid": "455fe249-e728-4f0b-9173-87c353e05f5a",
     "showTitle": false,
     "tableResultSettingsMap": {},
     "title": ""
    }
   },
   "outputs": [
    {
     "output_type": "display_data",
     "data": {
      "text/html": [
       "<style scoped>\n",
       "  .table-result-container {\n",
       "    max-height: 300px;\n",
       "    overflow: auto;\n",
       "  }\n",
       "  table, th, td {\n",
       "    border: 1px solid black;\n",
       "    border-collapse: collapse;\n",
       "  }\n",
       "  th, td {\n",
       "    padding: 5px;\n",
       "  }\n",
       "  th {\n",
       "    text-align: left;\n",
       "  }\n",
       "</style><div class='table-result-container'><table class='table-result'><thead style='background-color: white'><tr><th>num_affected_rows</th><th>num_inserted_rows</th></tr></thead><tbody></tbody></table></div>"
      ]
     },
     "metadata": {
      "application/vnd.databricks.v1+output": {
       "addedWidgets": {},
       "aggData": [],
       "aggError": "",
       "aggOverflow": false,
       "aggSchema": [],
       "aggSeriesLimitReached": false,
       "aggType": "",
       "arguments": {},
       "columnCustomDisplayInfos": {},
       "data": [],
       "datasetInfos": [
        {
         "name": "_sqldf",
         "schema": {
          "fields": [
           {
            "metadata": {},
            "name": "num_affected_rows",
            "nullable": true,
            "type": "long"
           },
           {
            "metadata": {},
            "name": "num_inserted_rows",
            "nullable": true,
            "type": "long"
           }
          ],
          "type": "struct"
         },
         "tableIdentifier": null,
         "typeStr": "pyspark.sql.connect.dataframe.DataFrame"
        }
       ],
       "dbfsResultPath": null,
       "isJsonSchema": true,
       "metadata": {
        "createTempViewForImplicitDf": true,
        "dataframeName": "_sqldf",
        "executionCount": 103
       },
       "overflow": false,
       "plotOptions": {
        "customPlotOptions": {},
        "displayType": "table",
        "pivotAggregation": null,
        "pivotColumns": null,
        "xColumns": null,
        "yColumns": null
       },
       "removedWidgets": [],
       "schema": [
        {
         "metadata": "{}",
         "name": "num_affected_rows",
         "type": "\"long\""
        },
        {
         "metadata": "{}",
         "name": "num_inserted_rows",
         "type": "\"long\""
        }
       ],
       "type": "table"
      }
     },
     "output_type": "display_data"
    }
   ],
   "source": [
    "%sql\n",
    "create table if not exists workspace.bronze.bronzetable\n",
    "as\n",
    "select * from bronze_source"
   ]
  },
  {
   "cell_type": "code",
   "execution_count": 0,
   "metadata": {
    "application/vnd.databricks.v1+cell": {
     "cellMetadata": {
      "byteLimit": 2048000,
      "rowLimit": 10000
     },
     "inputWidgets": {},
     "nuid": "7985647c-b4e9-4f5c-97b2-59279a15cf2d",
     "showTitle": false,
     "tableResultSettingsMap": {},
     "title": ""
    }
   },
   "outputs": [],
   "source": [
    "from delta.tables import DeltaTable"
   ]
  },
  {
   "cell_type": "code",
   "execution_count": 0,
   "metadata": {
    "application/vnd.databricks.v1+cell": {
     "cellMetadata": {
      "byteLimit": 2048000,
      "rowLimit": 10000
     },
     "inputWidgets": {},
     "nuid": "f4f8b5f6-ef29-461c-8aed-8ad7570102ba",
     "showTitle": false,
     "tableResultSettingsMap": {},
     "title": ""
    }
   },
   "outputs": [],
   "source": [
    "if spark.catalog.tableExists(\"workspace.bronze.bronzetable\"):\n",
    "    DeltaTable.forName(spark, \"workspace.bronze.bronzetable\").alias('trg').merge(\n",
    "        spark.table(\"bronze_source\").alias('src'), 'trg.OrderID = src.OrderID'\n",
    "    ).whenMatchedUpdateAll().whenNotMatchedInsertAll().execute()\n",
    "else:\n",
    "    spark.table(\"bronze_source\").write.saveAsTable(\"workspace.bronze.bronzetable\")"
   ]
  },
  {
   "cell_type": "code",
   "execution_count": 0,
   "metadata": {
    "application/vnd.databricks.v1+cell": {
     "cellMetadata": {
      "byteLimit": 2048000,
      "implicitDf": true,
      "rowLimit": 10000
     },
     "inputWidgets": {},
     "nuid": "e11c7837-56e0-4a4d-87e4-2eb01f1387a9",
     "showTitle": false,
     "tableResultSettingsMap": {
      "0": {
       "dataGridStateBlob": "{\"version\":1,\"tableState\":{\"columnPinning\":{\"left\":[\"#row_number#\"],\"right\":[]},\"columnSizing\":{},\"columnVisibility\":{}},\"settings\":{\"columns\":{}},\"syncTimestamp\":1754809012810}",
       "filterBlob": null,
       "queryPlanFiltersBlob": null,
       "tableResultIndex": 0
      }
     },
     "title": ""
    }
   },
   "outputs": [
    {
     "output_type": "display_data",
     "data": {
      "text/html": [
       "<style scoped>\n",
       "  .table-result-container {\n",
       "    max-height: 300px;\n",
       "    overflow: auto;\n",
       "  }\n",
       "  table, th, td {\n",
       "    border: 1px solid black;\n",
       "    border-collapse: collapse;\n",
       "  }\n",
       "  th, td {\n",
       "    padding: 5px;\n",
       "  }\n",
       "  th {\n",
       "    text-align: left;\n",
       "  }\n",
       "</style><div class='table-result-container'><table class='table-result'><thead style='background-color: white'><tr><th>OrderID</th><th>OrderDate</th><th>CustomerID</th><th>CustomerName</th><th>ProductID</th><th>ProductName</th><th>Quantity</th><th>SalesAmount</th><th>lastupdated</th></tr></thead><tbody><tr><td>1001</td><td>2025-08-01</td><td>C001</td><td>John Doe</td><td>P001</td><td>Laptop</td><td>1</td><td>1200.0</td><td>2025-08-10T06:52:44.088Z</td></tr><tr><td>1002</td><td>2025-08-01</td><td>C002</td><td>Jane Smith</td><td>P002</td><td>Mouse</td><td>2</td><td>50.0</td><td>2025-08-10T06:52:44.088Z</td></tr><tr><td>1003</td><td>2025-08-02</td><td>C001</td><td>John Doe</td><td>P003</td><td>Keyboard</td><td>1</td><td>80.0</td><td>2025-08-10T06:52:44.088Z</td></tr><tr><td>1004</td><td>2025-08-03</td><td>C003</td><td>Mark Lee</td><td>P001</td><td>Laptop</td><td>1</td><td>1200.0</td><td>2025-08-10T06:52:44.088Z</td></tr><tr><td>1006</td><td>2025-08-06</td><td>C006</td><td>Emma White</td><td>P006</td><td>Webcam</td><td>1</td><td>90.0</td><td>2025-08-10T07:16:19.258Z</td></tr><tr><td>1007</td><td>2025-08-07</td><td>C002</td><td>Jane Smith</td><td>P002</td><td>Mouse</td><td>3</td><td>75.0</td><td>2025-08-10T07:16:19.258Z</td></tr><tr><td>1005</td><td>2025-08-04</td><td>C004</td><td>Suresh kumar</td><td>P004</td><td>Monitor</td><td>2</td><td>300.0</td><td>2025-08-10T07:16:19.258Z</td></tr></tbody></table></div>"
      ]
     },
     "metadata": {
      "application/vnd.databricks.v1+output": {
       "addedWidgets": {},
       "aggData": [],
       "aggError": "",
       "aggOverflow": false,
       "aggSchema": [],
       "aggSeriesLimitReached": false,
       "aggType": "",
       "arguments": {},
       "columnCustomDisplayInfos": {},
       "data": [
        [
         1001,
         "2025-08-01",
         "C001",
         "John Doe",
         "P001",
         "Laptop",
         1,
         1200.0,
         "2025-08-10T06:52:44.088Z"
        ],
        [
         1002,
         "2025-08-01",
         "C002",
         "Jane Smith",
         "P002",
         "Mouse",
         2,
         50.0,
         "2025-08-10T06:52:44.088Z"
        ],
        [
         1003,
         "2025-08-02",
         "C001",
         "John Doe",
         "P003",
         "Keyboard",
         1,
         80.0,
         "2025-08-10T06:52:44.088Z"
        ],
        [
         1004,
         "2025-08-03",
         "C003",
         "Mark Lee",
         "P001",
         "Laptop",
         1,
         1200.0,
         "2025-08-10T06:52:44.088Z"
        ],
        [
         1006,
         "2025-08-06",
         "C006",
         "Emma White",
         "P006",
         "Webcam",
         1,
         90.0,
         "2025-08-10T07:16:19.258Z"
        ],
        [
         1007,
         "2025-08-07",
         "C002",
         "Jane Smith",
         "P002",
         "Mouse",
         3,
         75.0,
         "2025-08-10T07:16:19.258Z"
        ],
        [
         1005,
         "2025-08-04",
         "C004",
         "Suresh kumar",
         "P004",
         "Monitor",
         2,
         300.0,
         "2025-08-10T07:16:19.258Z"
        ]
       ],
       "datasetInfos": [
        {
         "name": "_sqldf",
         "schema": {
          "fields": [
           {
            "metadata": {},
            "name": "OrderID",
            "nullable": true,
            "type": "integer"
           },
           {
            "metadata": {},
            "name": "OrderDate",
            "nullable": true,
            "type": "date"
           },
           {
            "metadata": {},
            "name": "CustomerID",
            "nullable": true,
            "type": "string"
           },
           {
            "metadata": {},
            "name": "CustomerName",
            "nullable": true,
            "type": "string"
           },
           {
            "metadata": {},
            "name": "ProductID",
            "nullable": true,
            "type": "string"
           },
           {
            "metadata": {},
            "name": "ProductName",
            "nullable": true,
            "type": "string"
           },
           {
            "metadata": {},
            "name": "Quantity",
            "nullable": true,
            "type": "integer"
           },
           {
            "metadata": {},
            "name": "SalesAmount",
            "nullable": true,
            "type": "double"
           },
           {
            "metadata": {},
            "name": "lastupdated",
            "nullable": true,
            "type": "timestamp"
           }
          ],
          "type": "struct"
         },
         "tableIdentifier": null,
         "typeStr": "pyspark.sql.connect.dataframe.DataFrame"
        }
       ],
       "dbfsResultPath": null,
       "isJsonSchema": true,
       "metadata": {
        "createTempViewForImplicitDf": true,
        "dataframeName": "_sqldf",
        "executionCount": 111
       },
       "overflow": false,
       "plotOptions": {
        "customPlotOptions": {},
        "displayType": "table",
        "pivotAggregation": null,
        "pivotColumns": null,
        "xColumns": null,
        "yColumns": null
       },
       "removedWidgets": [],
       "schema": [
        {
         "metadata": "{}",
         "name": "OrderID",
         "type": "\"integer\""
        },
        {
         "metadata": "{}",
         "name": "OrderDate",
         "type": "\"date\""
        },
        {
         "metadata": "{}",
         "name": "CustomerID",
         "type": "\"string\""
        },
        {
         "metadata": "{}",
         "name": "CustomerName",
         "type": "\"string\""
        },
        {
         "metadata": "{}",
         "name": "ProductID",
         "type": "\"string\""
        },
        {
         "metadata": "{}",
         "name": "ProductName",
         "type": "\"string\""
        },
        {
         "metadata": "{}",
         "name": "Quantity",
         "type": "\"integer\""
        },
        {
         "metadata": "{}",
         "name": "SalesAmount",
         "type": "\"double\""
        },
        {
         "metadata": "{}",
         "name": "lastupdated",
         "type": "\"timestamp\""
        }
       ],
       "type": "table"
      }
     },
     "output_type": "display_data"
    }
   ],
   "source": [
    "%sql\n",
    "select * from workspace.bronze.bronzetable"
   ]
  },
  {
   "cell_type": "code",
   "execution_count": 0,
   "metadata": {
    "application/vnd.databricks.v1+cell": {
     "cellMetadata": {},
     "inputWidgets": {},
     "nuid": "52f19436-6a88-43e4-9b6a-198ab2b7a004",
     "showTitle": false,
     "tableResultSettingsMap": {},
     "title": ""
    }
   },
   "outputs": [],
   "source": []
  }
 ],
 "metadata": {
  "application/vnd.databricks.v1+notebook": {
   "computePreferences": {
    "hardware": {
     "accelerator": null,
     "gpuPoolId": null,
     "memory": null
    }
   },
   "dashboards": [],
   "environmentMetadata": {
    "base_environment": "",
    "environment_version": "2"
   },
   "inputWidgetPreferences": null,
   "language": "python",
   "notebookMetadata": {
    "mostRecentlyExecutedCommandWithImplicitDF": {
     "commandId": 7473802092156994,
     "dataframes": [
      "_sqldf"
     ]
    },
    "pythonIndentUnit": 4
   },
   "notebookName": "bronze",
   "widgets": {}
  },
  "language_info": {
   "name": "python"
  }
 },
 "nbformat": 4,
 "nbformat_minor": 0
}